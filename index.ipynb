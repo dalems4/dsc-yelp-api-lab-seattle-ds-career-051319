{
 "cells": [
  {
   "cell_type": "markdown",
   "metadata": {},
   "source": [
    "# Yelp API - Lab\n",
    "\n",
    "\n",
    "## Introduction \n",
    "\n",
    "Now that we've seen how the Yelp API works and some basic Folium visualizations, it's time to put those skills to work in order to create a working map! Taking things a step further, you'll also independently explore how to perform pagination in order to retrieve a full results set from the Yelp API!\n",
    "\n",
    "## Objectives\n",
    "\n",
    "You will be able to: \n",
    "* Create HTTP requests to get data from Yelp API\n",
    "* Parse HTTP responses and perform data analysis on the data returned\n",
    "* Perform pagination to retrieve troves of data!\n",
    "* Create a simple geographical system on to view information about selected businesses, at a given location. \n",
    "\n",
    "## Problem Introduction\n",
    "\n",
    "You've now worked with some API calls, but we have yet to see how to retrieve a more complete dataset in a programmatic manner. Returning to the Yelp API, the [documentation](https://www.yelp.com/developers/documentation/v3/business_search) also provides us details regarding the API limits. These often include details about the number of requests a user is allowed to make within a specified time limit and the maximum number of results to be returned. In this case, we are told that any request has a maximum of 50 results per request and defaults to 20. Furthermore, any search will be limited to a total of 1000 results. To retrieve all 1000 of these results, we would have to page through the results piece by piece, retrieving 50 at a time. Processes such as these are often referred to as pagination.\n",
    "\n",
    "In this lab, you will define a search and then paginate over the results to retrieve all of the results. You'll then parse these responses as a DataFrame (for further exploration) and create a map using Folium to visualize the results geographically.\n",
    "\n",
    "## Part I - Make the Initial Request\n",
    "\n",
    "Start by making an initial request to the Yelp API. Your search must include at least 2 parameters: **term** and **location**. For example, you might search for pizza restaurants in NYC. The term and location is up to you, but make the request below."
   ]
  },
  {
   "cell_type": "code",
   "execution_count": 4,
   "metadata": {},
   "outputs": [
    {
     "name": "stdout",
     "output_type": "stream",
     "text": [
      "<Response [200]>\n",
      "<class 'str'>\n",
      "{\"businesses\": [{\"id\": \"ysqgdbSrezXgVwER2kQWKA\", \"alias\": \"julianas-pizza-brooklyn-5\", \"name\": \"Juliana's Pizza\", \"image_url\": \"https://s3-media1.fl.yelpcdn.com/bphoto/7JtwTxhWHf3YS70Ss_CfxA/o.jpg\", \"is_closed\": false, \"url\": \"https://www.yelp.com/biz/julianas-pizza-brooklyn-5?adjust_creative=cW9PW8LfG3nsAf7jUvFGjQ&utm_campaign=yelp_api_v3&utm_medium=api_v3_business_search&utm_source=cW9PW8LfG3nsAf7jUvFGjQ\", \"review_count\": 1975, \"categories\": [{\"alias\": \"pizza\", \"title\": \"Pizza\"}], \"rating\": 4.5, \"coordinates\": {\"latitude\": 40.7026153030093, \"longitude\": -73.9934159993549}, \"transactions\": [], \"price\": \"$$\", \"location\": {\"address1\": \"19 Old Fulton St\", \"address2\": \"\", \"address3\": \"\", \"city\": \"Brooklyn\", \"zip_code\": \"11201\", \"country\": \"US\", \"state\": \"NY\", \"display_address\": [\"19 Old Fulton St\", \"Brooklyn, NY 11201\"]}, \"phone\": \"+17185966700\", \"display_phone\": \"(718) 596-6700\", \"distance\": 323.20506308227306}, {\"id\": \"zj8Lq1T8KIC5zwFief15jg\", \"alias\": \"prince-street-pizza-new-york-2\", \n"
     ]
    }
   ],
   "source": [
    "import requests\n",
    "import pandas as pd\n",
    "\n",
    "client_id ='cW9PW8LfG3nsAf7jUvFGjQ'\n",
    "api_key = '1ERAxU4llNHaXoEmDjOI66yiSR8pkYjLiyXWG98VQLRaDlh6UlneobCyLkhwmhbMaOtmGFTe7YWN6gVxYlq4rDih3-kGwdom_TtjYAXksF7b14-tz0TgtPaHMg33XHYx'\n",
    "\n",
    "term = 'pizza'\n",
    "location = \"New York NY\"\n",
    "\n",
    "url = 'https://api.yelp.com/v3/businesses/search'\n",
    "\n",
    "headers= {\n",
    "    'Authorization': 'Bearer {}'.format(api_key),\n",
    "}\n",
    "\n",
    "url_params = {\n",
    "    'term' : term.replace(\" \", '+'),\n",
    "    'location' : location.replace(' ', '+'),\n",
    "}\n",
    "\n",
    "response = requests.get(url, headers=headers, params=url_params)\n",
    "\n",
    "print(response)\n",
    "print(type(response.text))\n",
    "print(response.text[:1000])"
   ]
  },
  {
   "cell_type": "markdown",
   "metadata": {},
   "source": [
    "## Pagination\n",
    "\n",
    "Now that you have an initial response, you can examine the contents of the json container. For example, you might start with ```response.json().keys()```. Here, you'll see a key for `'total'`, which tells you the full number of matching results given your query parameters. Write a loop (or ideally a function) which then makes successive API calls using the offset parameter to retrieve all of the results (or 5000 for a particularly large result set) for the original query. As you do this, be mindful of how you store the data. Your final goal will be to reformat the data concerning the businesses themselves into a pandas DataFrame from the json objects.\n",
    "\n",
    "**Note: be mindful of the API rate limits. You can only make 5000 requests per day, and are also can make requests too fast. Start prototyping small before running a loop that could be faulty. You can also use time.sleep(n) to add delays. For more details see https://www.yelp.com/developers/documentation/v3/rate_limiting.**"
   ]
  },
  {
   "cell_type": "code",
   "execution_count": 7,
   "metadata": {},
   "outputs": [
    {
     "data": {
      "text/plain": [
       "dict_keys(['businesses', 'total', 'region'])"
      ]
     },
     "execution_count": 7,
     "metadata": {},
     "output_type": "execute_result"
    }
   ],
   "source": [
    "response.json().keys()"
   ]
  },
  {
   "cell_type": "code",
   "execution_count": 14,
   "metadata": {},
   "outputs": [
    {
     "name": "stdout",
     "output_type": "stream",
     "text": [
      "10800 total matches found.\n",
      "1000\n"
     ]
    },
    {
     "data": {
      "text/html": [
       "<div>\n",
       "<style scoped>\n",
       "    .dataframe tbody tr th:only-of-type {\n",
       "        vertical-align: middle;\n",
       "    }\n",
       "\n",
       "    .dataframe tbody tr th {\n",
       "        vertical-align: top;\n",
       "    }\n",
       "\n",
       "    .dataframe thead th {\n",
       "        text-align: right;\n",
       "    }\n",
       "</style>\n",
       "<table border=\"1\" class=\"dataframe\">\n",
       "  <thead>\n",
       "    <tr style=\"text-align: right;\">\n",
       "      <th></th>\n",
       "      <th>alias</th>\n",
       "      <th>categories</th>\n",
       "      <th>coordinates</th>\n",
       "      <th>display_phone</th>\n",
       "      <th>distance</th>\n",
       "      <th>id</th>\n",
       "      <th>image_url</th>\n",
       "      <th>is_closed</th>\n",
       "      <th>location</th>\n",
       "      <th>name</th>\n",
       "      <th>phone</th>\n",
       "      <th>price</th>\n",
       "      <th>rating</th>\n",
       "      <th>review_count</th>\n",
       "      <th>transactions</th>\n",
       "      <th>url</th>\n",
       "    </tr>\n",
       "  </thead>\n",
       "  <tbody>\n",
       "    <tr>\n",
       "      <th>0</th>\n",
       "      <td>best-pizza-shop-queens</td>\n",
       "      <td>[{'alias': 'pizza', 'title': 'Pizza'}]</td>\n",
       "      <td>{'latitude': 40.7589, 'longitude': -73.92601}</td>\n",
       "      <td></td>\n",
       "      <td>940.408732</td>\n",
       "      <td>XLks2jXfslR0SzqFlUa6rw</td>\n",
       "      <td>https://s3-media3.fl.yelpcdn.com/bphoto/nwvuqg...</td>\n",
       "      <td>False</td>\n",
       "      <td>{'address1': '32-20 34th Ave', 'address2': '',...</td>\n",
       "      <td>Best Pizza Shop</td>\n",
       "      <td></td>\n",
       "      <td>NaN</td>\n",
       "      <td>4.0</td>\n",
       "      <td>13</td>\n",
       "      <td>[delivery, pickup]</td>\n",
       "      <td>https://www.yelp.com/biz/best-pizza-shop-queen...</td>\n",
       "    </tr>\n",
       "    <tr>\n",
       "      <th>1</th>\n",
       "      <td>milkflower-astoria</td>\n",
       "      <td>[{'alias': 'pizza', 'title': 'Pizza'}]</td>\n",
       "      <td>{'latitude': 40.7628961, 'longitude': -73.9207...</td>\n",
       "      <td>(718) 204-1300</td>\n",
       "      <td>461.294783</td>\n",
       "      <td>1OZPOWZwJr-hpvMt6TD4ug</td>\n",
       "      <td>https://s3-media3.fl.yelpcdn.com/bphoto/SQG1kI...</td>\n",
       "      <td>False</td>\n",
       "      <td>{'address1': '3412 31st Ave', 'address2': '', ...</td>\n",
       "      <td>Milkflower</td>\n",
       "      <td>+17182041300</td>\n",
       "      <td>$$</td>\n",
       "      <td>4.5</td>\n",
       "      <td>586</td>\n",
       "      <td>[]</td>\n",
       "      <td>https://www.yelp.com/biz/milkflower-astoria?ad...</td>\n",
       "    </tr>\n",
       "    <tr>\n",
       "      <th>2</th>\n",
       "      <td>rizzos-fine-pizza-astoria</td>\n",
       "      <td>[{'alias': 'pizza', 'title': 'Pizza'}]</td>\n",
       "      <td>{'latitude': 40.76335, 'longitude': -73.91516}</td>\n",
       "      <td>(718) 721-9862</td>\n",
       "      <td>713.161109</td>\n",
       "      <td>hB2S1y5T9ufMz5ksHHhdIA</td>\n",
       "      <td>https://s3-media3.fl.yelpcdn.com/bphoto/p1IQ1w...</td>\n",
       "      <td>False</td>\n",
       "      <td>{'address1': '3013 Steinway St', 'address2': '...</td>\n",
       "      <td>Rizzo's Fine Pizza</td>\n",
       "      <td>+17187219862</td>\n",
       "      <td>$</td>\n",
       "      <td>4.0</td>\n",
       "      <td>560</td>\n",
       "      <td>[delivery, pickup]</td>\n",
       "      <td>https://www.yelp.com/biz/rizzos-fine-pizza-ast...</td>\n",
       "    </tr>\n",
       "    <tr>\n",
       "      <th>3</th>\n",
       "      <td>sacs-place-astoria</td>\n",
       "      <td>[{'alias': 'pizza', 'title': 'Pizza'}, {'alias...</td>\n",
       "      <td>{'latitude': 40.7628982173022, 'longitude': -7...</td>\n",
       "      <td>(718) 204-5002</td>\n",
       "      <td>605.395513</td>\n",
       "      <td>Y3xDbSHXs6apMA4JLGJZ1Q</td>\n",
       "      <td>https://s3-media3.fl.yelpcdn.com/bphoto/DvDlQ_...</td>\n",
       "      <td>False</td>\n",
       "      <td>{'address1': '2541 Broadway', 'address2': '', ...</td>\n",
       "      <td>Sac's Place</td>\n",
       "      <td>+17182045002</td>\n",
       "      <td>$$</td>\n",
       "      <td>4.0</td>\n",
       "      <td>459</td>\n",
       "      <td>[delivery, pickup]</td>\n",
       "      <td>https://www.yelp.com/biz/sacs-place-astoria?ad...</td>\n",
       "    </tr>\n",
       "    <tr>\n",
       "      <th>4</th>\n",
       "      <td>mela-pizza-house-astoria</td>\n",
       "      <td>[{'alias': 'pizza', 'title': 'Pizza'}]</td>\n",
       "      <td>{'latitude': 40.76765, 'longitude': -73.92056}</td>\n",
       "      <td>(718) 777-5533</td>\n",
       "      <td>159.969828</td>\n",
       "      <td>KjlNK_o3kWtsjsIx6ZgF0A</td>\n",
       "      <td>https://s3-media2.fl.yelpcdn.com/bphoto/2O0JuH...</td>\n",
       "      <td>False</td>\n",
       "      <td>{'address1': '31-01 Newtown Ave', 'address2': ...</td>\n",
       "      <td>Mela Pizza House</td>\n",
       "      <td>+17187775533</td>\n",
       "      <td>$</td>\n",
       "      <td>4.0</td>\n",
       "      <td>26</td>\n",
       "      <td>[delivery, pickup]</td>\n",
       "      <td>https://www.yelp.com/biz/mela-pizza-house-asto...</td>\n",
       "    </tr>\n",
       "  </tbody>\n",
       "</table>\n",
       "</div>"
      ],
      "text/plain": [
       "                       alias  \\\n",
       "0     best-pizza-shop-queens   \n",
       "1         milkflower-astoria   \n",
       "2  rizzos-fine-pizza-astoria   \n",
       "3         sacs-place-astoria   \n",
       "4   mela-pizza-house-astoria   \n",
       "\n",
       "                                          categories  \\\n",
       "0             [{'alias': 'pizza', 'title': 'Pizza'}]   \n",
       "1             [{'alias': 'pizza', 'title': 'Pizza'}]   \n",
       "2             [{'alias': 'pizza', 'title': 'Pizza'}]   \n",
       "3  [{'alias': 'pizza', 'title': 'Pizza'}, {'alias...   \n",
       "4             [{'alias': 'pizza', 'title': 'Pizza'}]   \n",
       "\n",
       "                                         coordinates   display_phone  \\\n",
       "0      {'latitude': 40.7589, 'longitude': -73.92601}                   \n",
       "1  {'latitude': 40.7628961, 'longitude': -73.9207...  (718) 204-1300   \n",
       "2     {'latitude': 40.76335, 'longitude': -73.91516}  (718) 721-9862   \n",
       "3  {'latitude': 40.7628982173022, 'longitude': -7...  (718) 204-5002   \n",
       "4     {'latitude': 40.76765, 'longitude': -73.92056}  (718) 777-5533   \n",
       "\n",
       "     distance                      id  \\\n",
       "0  940.408732  XLks2jXfslR0SzqFlUa6rw   \n",
       "1  461.294783  1OZPOWZwJr-hpvMt6TD4ug   \n",
       "2  713.161109  hB2S1y5T9ufMz5ksHHhdIA   \n",
       "3  605.395513  Y3xDbSHXs6apMA4JLGJZ1Q   \n",
       "4  159.969828  KjlNK_o3kWtsjsIx6ZgF0A   \n",
       "\n",
       "                                           image_url  is_closed  \\\n",
       "0  https://s3-media3.fl.yelpcdn.com/bphoto/nwvuqg...      False   \n",
       "1  https://s3-media3.fl.yelpcdn.com/bphoto/SQG1kI...      False   \n",
       "2  https://s3-media3.fl.yelpcdn.com/bphoto/p1IQ1w...      False   \n",
       "3  https://s3-media3.fl.yelpcdn.com/bphoto/DvDlQ_...      False   \n",
       "4  https://s3-media2.fl.yelpcdn.com/bphoto/2O0JuH...      False   \n",
       "\n",
       "                                            location                name  \\\n",
       "0  {'address1': '32-20 34th Ave', 'address2': '',...     Best Pizza Shop   \n",
       "1  {'address1': '3412 31st Ave', 'address2': '', ...          Milkflower   \n",
       "2  {'address1': '3013 Steinway St', 'address2': '...  Rizzo's Fine Pizza   \n",
       "3  {'address1': '2541 Broadway', 'address2': '', ...         Sac's Place   \n",
       "4  {'address1': '31-01 Newtown Ave', 'address2': ...    Mela Pizza House   \n",
       "\n",
       "          phone price  rating  review_count        transactions  \\\n",
       "0                 NaN     4.0            13  [delivery, pickup]   \n",
       "1  +17182041300    $$     4.5           586                  []   \n",
       "2  +17187219862     $     4.0           560  [delivery, pickup]   \n",
       "3  +17182045002    $$     4.0           459  [delivery, pickup]   \n",
       "4  +17187775533     $     4.0            26  [delivery, pickup]   \n",
       "\n",
       "                                                 url  \n",
       "0  https://www.yelp.com/biz/best-pizza-shop-queen...  \n",
       "1  https://www.yelp.com/biz/milkflower-astoria?ad...  \n",
       "2  https://www.yelp.com/biz/rizzos-fine-pizza-ast...  \n",
       "3  https://www.yelp.com/biz/sacs-place-astoria?ad...  \n",
       "4  https://www.yelp.com/biz/mela-pizza-house-asto...  "
      ]
     },
     "execution_count": 14,
     "metadata": {},
     "output_type": "execute_result"
    }
   ],
   "source": [
    "import pandas as pd\n",
    "import time\n",
    "\n",
    "def yelp_call(url_params, api_key):\n",
    "    url = 'https://api.yelp.com/v3/businesses/search'\n",
    "    headers = {'Authorization': 'Bearer {}'.format(api_key)}\n",
    "    response = requests.get(url, headers=headers, params=url_params)\n",
    "    \n",
    "    df = pd.DataFrame(response.json()['businesses'])\n",
    "    return df\n",
    "\n",
    "def all_results(url_params, api_key):\n",
    "    num = response.json()['total']\n",
    "    print('{} total matches found.'.format(num))\n",
    "    cur = 0\n",
    "    dfs = []\n",
    "    while cur < num and cur < 1000:\n",
    "        url_params['offset'] = cur\n",
    "        dfs.append(yelp_call(url_params, api_key))\n",
    "        time.sleep(1) #Wait a second\n",
    "        cur += 50\n",
    "    df = pd.concat(dfs, ignore_index=True)\n",
    "    return df\n",
    "\n",
    "term = 'pizza'\n",
    "location = 'Astoria NY'\n",
    "url_params = {  'term': term.replace(' ', '+'),\n",
    "                'location': location.replace(' ', '+'),\n",
    "                'limit' : 50\n",
    "             }\n",
    "df = all_results(url_params, api_key)\n",
    "print(len(df))\n",
    "df.head()"
   ]
  },
  {
   "cell_type": "markdown",
   "metadata": {},
   "source": [
    "## Exploratory Analysis\n",
    "\n",
    "Take the restaurants from the previous question and do an initial exploratory analysis. At minimum, this should include looking at the distribution of features such as price, rating and number of reviews as well as the relations between these dimensions."
   ]
  },
  {
   "cell_type": "code",
   "execution_count": 16,
   "metadata": {},
   "outputs": [
    {
     "data": {
      "text/plain": [
       "array([[<matplotlib.axes._subplots.AxesSubplot object at 0x7fc78a143320>,\n",
       "        <matplotlib.axes._subplots.AxesSubplot object at 0x7fc78a2e8160>,\n",
       "        <matplotlib.axes._subplots.AxesSubplot object at 0x7fc788d77278>],\n",
       "       [<matplotlib.axes._subplots.AxesSubplot object at 0x7fc788d9e7f0>,\n",
       "        <matplotlib.axes._subplots.AxesSubplot object at 0x7fc788d46d68>,\n",
       "        <matplotlib.axes._subplots.AxesSubplot object at 0x7fc788cf5320>],\n",
       "       [<matplotlib.axes._subplots.AxesSubplot object at 0x7fc788d1c898>,\n",
       "        <matplotlib.axes._subplots.AxesSubplot object at 0x7fc788cc6e48>,\n",
       "        <matplotlib.axes._subplots.AxesSubplot object at 0x7fc788cc6e80>]],\n",
       "      dtype=object)"
      ]
     },
     "execution_count": 16,
     "metadata": {},
     "output_type": "execute_result"
    },
    {
     "data": {
      "image/png": "[encoded data removed]",
      "text/plain": [
       "<Figure size 432x288 with 9 Axes>"
      ]
     },
     "metadata": {
      "needs_background": "light"
     },
     "output_type": "display_data"
    }
   ],
   "source": [
    "%matplotlib inline\n",
    "import matplotlib.pyplot as plt\n",
    "\n",
    "df.price = df.price.fillna(value=0)\n",
    "price_dict = {\"$\": 1, \"$$\":2, \"$$$\": 3, \"$$$$\":4}\n",
    "df.price = df.price.map(price_dict)\n",
    "\n",
    "pd.plotting.scatter_matrix(df[['price', 'rating', 'review_count']])"
   ]
  },
  {
   "cell_type": "markdown",
   "metadata": {},
   "source": [
    "## Mapping\n",
    "\n",
    "Look at the initial Yelp example and try and make a map using Folium of the restaurants you retrieved. Be sure to also add popups to the markers giving some basic information such as name, rating and price."
   ]
  },
  {
   "cell_type": "code",
   "execution_count": null,
   "metadata": {},
   "outputs": [],
   "source": [
    "#Your code here"
   ]
  },
  {
   "cell_type": "markdown",
   "metadata": {},
   "source": [
    "## Summary\n",
    "\n",
    "Nice work! In this lab, you synthesized your skills for the day, making multiple API calls to Yelp in order to paginate through a results set, performing some basic exploratory analysis and then creating a nice map visual to display the results! Well done!"
   ]
  }
 ],
 "metadata": {
  "kernelspec": {
   "display_name": "Python 3",
   "language": "python",
   "name": "python3"
  },
  "language_info": {
   "codemirror_mode": {
    "name": "ipython",
    "version": 3
   },
   "file_extension": ".py",
   "mimetype": "text/x-python",
   "name": "python",
   "nbconvert_exporter": "python",
   "pygments_lexer": "ipython3",
   "version": "3.6.6"
  }
 },
 "nbformat": 4,
 "nbformat_minor": 2
}
